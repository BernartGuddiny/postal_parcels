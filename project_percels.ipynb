{
 "cells": [
  {
   "cell_type": "code",
   "execution_count": 1,
   "metadata": {},
   "outputs": [],
   "source": [
    "# Importing base libraries for analysis\n",
    "import numpy as np\n",
    "import pandas as pd\n",
    "\n",
    "import sqlite3"
   ]
  },
  {
   "cell_type": "code",
   "execution_count": 2,
   "metadata": {},
   "outputs": [
    {
     "data": {
      "text/plain": [
       "'3.37.2'"
      ]
     },
     "execution_count": 2,
     "metadata": {},
     "output_type": "execute_result"
    }
   ],
   "source": [
    "sqlite3.sqlite_version"
   ]
  },
  {
   "attachments": {},
   "cell_type": "markdown",
   "metadata": {},
   "source": [
    "### Data generation for analysis"
   ]
  },
  {
   "cell_type": "code",
   "execution_count": 3,
   "metadata": {},
   "outputs": [],
   "source": [
    "# Start creating the 'parcel_aggr' dataset and creating the 'parcel_id' column\n",
    "parcel_aggr = pd.DataFrame({'parcel_id': range(100)})"
   ]
  },
  {
   "cell_type": "code",
   "execution_count": 4,
   "metadata": {},
   "outputs": [],
   "source": [
    "# Creating the 'accept_date' column\n",
    "parcel_aggr['accept_date'] = pd.Series(pd.date_range(start='2022-04-01'\n",
    "                                                    , end='2022-04-30'))\\\n",
    "                                        .sample(100, replace=True, random_state=42)\\\n",
    "                                .values"
   ]
  },
  {
   "cell_type": "code",
   "execution_count": 5,
   "metadata": {},
   "outputs": [],
   "source": [
    "# Creating the 'index_id' column\n",
    "parcel_aggr['index_id'] = pd.Series(range(10))\\\n",
    "                            .sample(100, replace=True, random_state=42)\\\n",
    "                            .values"
   ]
  },
  {
   "cell_type": "code",
   "execution_count": 6,
   "metadata": {},
   "outputs": [
    {
     "data": {
      "image/png": "[encoded data removed]",
      "text/plain": [
       "<Figure size 640x480 with 1 Axes>"
      ]
     },
     "metadata": {},
     "output_type": "display_data"
    }
   ],
   "source": [
    "np.random.seed(42)\n",
    "pd.Series(np.abs(np.random.normal(10000, 20000, size=100))).hist();"
   ]
  },
  {
   "cell_type": "code",
   "execution_count": 7,
   "metadata": {},
   "outputs": [],
   "source": [
    "# Creating the 'weight' column\n",
    "np.random.seed(42)\n",
    "parcel_aggr['weight'] = np.round(np.abs(np.random.normal(10000\n",
    "                                                        , 20000\n",
    "                                                        , size=100)))\\\n",
    "                            .astype(int)"
   ]
  },
  {
   "cell_type": "code",
   "execution_count": 8,
   "metadata": {},
   "outputs": [],
   "source": [
    "# Creating the 'price' column\n",
    "np.random.seed(42)\n",
    "parcel_aggr['price'] = np.round(np.abs(np.random.normal(10000\n",
    "                                                        , 20000\n",
    "                                                        , size=100)))\\\n",
    "                            .astype(int)"
   ]
  },
  {
   "cell_type": "code",
   "execution_count": 9,
   "metadata": {},
   "outputs": [],
   "source": [
    "# Creating the 'client_type' column\n",
    "parcel_aggr['client_type'] = pd.Series(['individual'\n",
    "                                        , 'legal'])\\\n",
    "                                .sample(100, replace=True, random_state=42)\\\n",
    "                                .values"
   ]
  },
  {
   "cell_type": "code",
   "execution_count": 10,
   "metadata": {},
   "outputs": [
    {
     "data": {
      "text/plain": [
       "array([6, 3, 7, 4, 9, 2, 5, 1, 0, 8], dtype=int64)"
      ]
     },
     "execution_count": 10,
     "metadata": {},
     "output_type": "execute_result"
    }
   ],
   "source": [
    "# Checking for unique the postcode\n",
    "parcel_aggr.index_id.unique()"
   ]
  },
  {
   "cell_type": "code",
   "execution_count": 11,
   "metadata": {},
   "outputs": [
    {
     "data": {
      "text/plain": [
       "7    15\n",
       "8    12\n",
       "6    11\n",
       "9    11\n",
       "4    10\n",
       "1    10\n",
       "3     9\n",
       "2     9\n",
       "0     7\n",
       "5     6\n",
       "Name: index_id, dtype: int64"
      ]
     },
     "execution_count": 11,
     "metadata": {},
     "output_type": "execute_result"
    }
   ],
   "source": [
    "# Checking distributions of values across postcode\n",
    "parcel_aggr.index_id.value_counts()"
   ]
  },
  {
   "cell_type": "code",
   "execution_count": 12,
   "metadata": {},
   "outputs": [
    {
     "data": {
      "text/html": [
       "<div>\n",
       "<style scoped>\n",
       "    .dataframe tbody tr th:only-of-type {\n",
       "        vertical-align: middle;\n",
       "    }\n",
       "\n",
       "    .dataframe tbody tr th {\n",
       "        vertical-align: top;\n",
       "    }\n",
       "\n",
       "    .dataframe thead th {\n",
       "        text-align: right;\n",
       "    }\n",
       "</style>\n",
       "<table border=\"1\" class=\"dataframe\">\n",
       "  <thead>\n",
       "    <tr style=\"text-align: right;\">\n",
       "      <th></th>\n",
       "      <th>parcel_id</th>\n",
       "      <th>accept_date</th>\n",
       "      <th>index_id</th>\n",
       "      <th>weight</th>\n",
       "      <th>price</th>\n",
       "      <th>client_type</th>\n",
       "    </tr>\n",
       "  </thead>\n",
       "  <tbody>\n",
       "    <tr>\n",
       "      <th>0</th>\n",
       "      <td>0</td>\n",
       "      <td>2022-04-07</td>\n",
       "      <td>6</td>\n",
       "      <td>19934</td>\n",
       "      <td>19934</td>\n",
       "      <td>individual</td>\n",
       "    </tr>\n",
       "    <tr>\n",
       "      <th>1</th>\n",
       "      <td>1</td>\n",
       "      <td>2022-04-20</td>\n",
       "      <td>3</td>\n",
       "      <td>7235</td>\n",
       "      <td>7235</td>\n",
       "      <td>legal</td>\n",
       "    </tr>\n",
       "    <tr>\n",
       "      <th>2</th>\n",
       "      <td>2</td>\n",
       "      <td>2022-04-29</td>\n",
       "      <td>7</td>\n",
       "      <td>22954</td>\n",
       "      <td>22954</td>\n",
       "      <td>individual</td>\n",
       "    </tr>\n",
       "    <tr>\n",
       "      <th>3</th>\n",
       "      <td>3</td>\n",
       "      <td>2022-04-15</td>\n",
       "      <td>4</td>\n",
       "      <td>40461</td>\n",
       "      <td>40461</td>\n",
       "      <td>individual</td>\n",
       "    </tr>\n",
       "    <tr>\n",
       "      <th>4</th>\n",
       "      <td>4</td>\n",
       "      <td>2022-04-11</td>\n",
       "      <td>6</td>\n",
       "      <td>5317</td>\n",
       "      <td>5317</td>\n",
       "      <td>individual</td>\n",
       "    </tr>\n",
       "    <tr>\n",
       "      <th>...</th>\n",
       "      <td>...</td>\n",
       "      <td>...</td>\n",
       "      <td>...</td>\n",
       "      <td>...</td>\n",
       "      <td>...</td>\n",
       "      <td>...</td>\n",
       "    </tr>\n",
       "    <tr>\n",
       "      <th>95</th>\n",
       "      <td>95</td>\n",
       "      <td>2022-04-29</td>\n",
       "      <td>9</td>\n",
       "      <td>19270</td>\n",
       "      <td>19270</td>\n",
       "      <td>legal</td>\n",
       "    </tr>\n",
       "    <tr>\n",
       "      <th>96</th>\n",
       "      <td>96</td>\n",
       "      <td>2022-04-18</td>\n",
       "      <td>8</td>\n",
       "      <td>15922</td>\n",
       "      <td>15922</td>\n",
       "      <td>legal</td>\n",
       "    </tr>\n",
       "    <tr>\n",
       "      <th>97</th>\n",
       "      <td>97</td>\n",
       "      <td>2022-04-26</td>\n",
       "      <td>6</td>\n",
       "      <td>15221</td>\n",
       "      <td>15221</td>\n",
       "      <td>legal</td>\n",
       "    </tr>\n",
       "    <tr>\n",
       "      <th>98</th>\n",
       "      <td>98</td>\n",
       "      <td>2022-04-12</td>\n",
       "      <td>8</td>\n",
       "      <td>10102</td>\n",
       "      <td>10102</td>\n",
       "      <td>legal</td>\n",
       "    </tr>\n",
       "    <tr>\n",
       "      <th>99</th>\n",
       "      <td>99</td>\n",
       "      <td>2022-04-02</td>\n",
       "      <td>7</td>\n",
       "      <td>5308</td>\n",
       "      <td>5308</td>\n",
       "      <td>individual</td>\n",
       "    </tr>\n",
       "  </tbody>\n",
       "</table>\n",
       "<p>100 rows × 6 columns</p>\n",
       "</div>"
      ],
      "text/plain": [
       "    parcel_id accept_date  index_id  weight  price client_type\n",
       "0           0  2022-04-07         6   19934  19934  individual\n",
       "1           1  2022-04-20         3    7235   7235       legal\n",
       "2           2  2022-04-29         7   22954  22954  individual\n",
       "3           3  2022-04-15         4   40461  40461  individual\n",
       "4           4  2022-04-11         6    5317   5317  individual\n",
       "..        ...         ...       ...     ...    ...         ...\n",
       "95         95  2022-04-29         9   19270  19270       legal\n",
       "96         96  2022-04-18         8   15922  15922       legal\n",
       "97         97  2022-04-26         6   15221  15221       legal\n",
       "98         98  2022-04-12         8   10102  10102       legal\n",
       "99         99  2022-04-02         7    5308   5308  individual\n",
       "\n",
       "[100 rows x 6 columns]"
      ]
     },
     "execution_count": 12,
     "metadata": {},
     "output_type": "execute_result"
    }
   ],
   "source": [
    "parcel_aggr"
   ]
  }
 ],
 "metadata": {
  "kernelspec": {
   "display_name": "Python 3",
   "language": "python",
   "name": "python3"
  },
  "language_info": {
   "codemirror_mode": {
    "name": "ipython",
    "version": 3
   },
   "file_extension": ".py",
   "mimetype": "text/x-python",
   "name": "python",
   "nbconvert_exporter": "python",
   "pygments_lexer": "ipython3",
   "version": "3.10.7"
  },
  "orig_nbformat": 4,
  "vscode": {
   "interpreter": {
    "hash": "0d94f957bcd0a3abf60869127bbca52346aeef3f4c7a6a45973ef73eeac5607d"
   }
  }
 },
 "nbformat": 4,
 "nbformat_minor": 2
}
